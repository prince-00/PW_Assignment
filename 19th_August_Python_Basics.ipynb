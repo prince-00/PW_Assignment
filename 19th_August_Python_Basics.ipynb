{
 "cells": [
  {
   "cell_type": "markdown",
   "id": "22dac82a-1a52-40b3-bc14-85786c538b69",
   "metadata": {},
   "source": [
    "TOPIC: Python Basics Variable"
   ]
  },
  {
   "cell_type": "code",
   "execution_count": 1,
   "id": "2ae031ce-55ab-4e6f-a167-4c693e1edfb0",
   "metadata": {},
   "outputs": [
    {
     "name": "stdout",
     "output_type": "stream",
     "text": [
      "New values after swapping\n",
      "x:  9\n",
      "y:  7\n"
     ]
    }
   ],
   "source": [
    "#Question 1\n",
    "\n",
    "x = 7      #Let x be equal to 7\n",
    "y = 9      #Let y be equal to 9\n",
    "\n",
    "x = x + y\n",
    "y = x - y\n",
    "x = x - y\n",
    "\n",
    "print(\"New values after swapping\")\n",
    "print(\"x: \", x)\n",
    "print(\"y: \", y)"
   ]
  },
  {
   "cell_type": "code",
   "execution_count": 3,
   "id": "84274de0-b79d-47f9-aba7-6b33d6c9c390",
   "metadata": {},
   "outputs": [
    {
     "name": "stdin",
     "output_type": "stream",
     "text": [
      "Enter the length of the rectangle:  5\n",
      "Enter the width of the rectangle:  4\n"
     ]
    },
    {
     "name": "stdout",
     "output_type": "stream",
     "text": [
      "The area of the rectangle with length as 5 and width as 4 is 20 square units.\n"
     ]
    }
   ],
   "source": [
    "#Question 2\n",
    "\n",
    "#Taking inputs as variables in integers. Can be float datatype as well\n",
    "length = int(input(\"Enter the length of the rectangle: \"))\n",
    "width = int(input(\"Enter the width of the rectangle: \"))\n",
    "\n",
    "area = length*width   #Calculating the area\n",
    "\n",
    "print(f\"The area of the rectangle with length as {length} and width as {width} is {area} square units.\")"
   ]
  },
  {
   "cell_type": "code",
   "execution_count": 4,
   "id": "3a5208ad-642b-426a-b6e3-b02428ebbd10",
   "metadata": {},
   "outputs": [
    {
     "name": "stdin",
     "output_type": "stream",
     "text": [
      "Enter the temperature in Celsius:  38\n"
     ]
    },
    {
     "name": "stdout",
     "output_type": "stream",
     "text": [
      "38.0 degrees Celsius is equal to 100.4 degrees Fahrenheit.\n"
     ]
    }
   ],
   "source": [
    "#Question 3\n",
    "\n",
    "#Taking inputs as variables in float since the temperature can be in decimals.\n",
    "celsius = float(input(\"Enter the temperature in Celsius: \"))\n",
    "\n",
    "fahrenheit = (celsius * 9/5) + 32      #Converting celsius to fahrenheit as per the formula\n",
    "\n",
    "print(f\"{celsius} degrees Celsius is equal to {fahrenheit} degrees Fahrenheit.\")"
   ]
  },
  {
   "cell_type": "markdown",
   "id": "96fa8ecb-3104-48b4-96a1-3c86a3eb36f8",
   "metadata": {},
   "source": []
  },
  {
   "cell_type": "markdown",
   "id": "a95dcd4d-a476-4466-8ef3-46e35940200d",
   "metadata": {},
   "source": [
    "TOPIC: String Based Questions"
   ]
  },
  {
   "cell_type": "code",
   "execution_count": 5,
   "id": "5882e982-4bd9-4ea9-9c6a-d9780964c461",
   "metadata": {},
   "outputs": [
    {
     "name": "stdin",
     "output_type": "stream",
     "text": [
      "Enter a string:  Hi, my name is Prince\n"
     ]
    },
    {
     "name": "stdout",
     "output_type": "stream",
     "text": [
      "The length of the string is: 21 characters\n"
     ]
    }
   ],
   "source": [
    "#Question 1\n",
    "\n",
    "user_input = input(\"Enter a string: \")     #Input from user\n",
    "\n",
    "length = len(user_input)                   #Calculating the length\n",
    "\n",
    "print(f\"The length of the string is: {length} characters\")"
   ]
  },
  {
   "cell_type": "code",
   "execution_count": 6,
   "id": "1e217479-3d7f-4b77-93bd-e9eebc792ab9",
   "metadata": {},
   "outputs": [
    {
     "name": "stdin",
     "output_type": "stream",
     "text": [
      "Enter a sentence:  Hi, my name is Prince\n"
     ]
    },
    {
     "name": "stdout",
     "output_type": "stream",
     "text": [
      "The number of vowels in the sentence is: 6\n"
     ]
    }
   ],
   "source": [
    "#Question 2\n",
    "\n",
    "sentence = input(\"Enter a sentence: \")                                  #Taking input from user\n",
    "\n",
    "vowel_count = sum(1 for char in sentence.lower() if char in 'aeiou')    #Counts the vowels from the sentence using list comprehension\n",
    "\n",
    "print(f\"The number of vowels in the sentence is: {vowel_count}\")"
   ]
  },
  {
   "cell_type": "code",
   "execution_count": 7,
   "id": "cf48b5b2-47d6-4c83-9aa8-4ca180570941",
   "metadata": {},
   "outputs": [
    {
     "name": "stdin",
     "output_type": "stream",
     "text": [
      "Enter a string:  Prince\n"
     ]
    },
    {
     "name": "stdout",
     "output_type": "stream",
     "text": [
      "The reverse of the input string is: ecnirP\n"
     ]
    }
   ],
   "source": [
    "#Question 3\n",
    "\n",
    "input_string = input(\"Enter a string: \")     #Input from user\n",
    "\n",
    "reverse = input_string[::-1]                 #Reverses the string using slicing\n",
    "\n",
    "print(f\"The reverse of the input string is: {reverse}\")"
   ]
  },
  {
   "cell_type": "code",
   "execution_count": 8,
   "id": "b2d17456-a9f6-4faa-8d01-7743d820230a",
   "metadata": {},
   "outputs": [
    {
     "name": "stdin",
     "output_type": "stream",
     "text": [
      "Enter a string:  IamAi\n"
     ]
    },
    {
     "name": "stdout",
     "output_type": "stream",
     "text": [
      "The input string is a palindrome.\n"
     ]
    }
   ],
   "source": [
    "#Question 4\n",
    "\n",
    "input_string = input(\"Enter a string: \")                  #Input from user\n",
    "\n",
    "input_string = input_string.replace(\" \", \"\").lower()      #Removing space and converting upper case to lower\n",
    "\n",
    "is_palindrome = input_string == input_string[::-1]        #Checking if string is Palindrome\n",
    "\n",
    "if is_palindrome:\n",
    "    print(\"The input string is a palindrome.\")\n",
    "else:\n",
    "    print(\"The input string is not a palindrome.\")"
   ]
  },
  {
   "cell_type": "code",
   "execution_count": 1,
   "id": "1d5edf84-ec21-4daa-b1c9-43b8fa2754f9",
   "metadata": {},
   "outputs": [
    {
     "name": "stdin",
     "output_type": "stream",
     "text": [
      "Enter a string:  My name is Prince\n"
     ]
    },
    {
     "name": "stdout",
     "output_type": "stream",
     "text": [
      "The modified string without spaces is: MynameisPrince\n"
     ]
    }
   ],
   "source": [
    "#Question 5\n",
    "\n",
    "input_string = input(\"Enter a string: \")                 #Input from user\n",
    "\n",
    "input_string = input_string.replace(\" \", \"\")             #Removing the spaces using replace method\n",
    "\n",
    "print(f\"The modified string without spaces is: {input_string}\")"
   ]
  },
  {
   "cell_type": "code",
   "execution_count": null,
   "id": "bd79fa69-0f69-42f1-b6d8-74a14ce80e69",
   "metadata": {},
   "outputs": [],
   "source": []
  }
 ],
 "metadata": {
  "kernelspec": {
   "display_name": "Python 3 (ipykernel)",
   "language": "python",
   "name": "python3"
  },
  "language_info": {
   "codemirror_mode": {
    "name": "ipython",
    "version": 3
   },
   "file_extension": ".py",
   "mimetype": "text/x-python",
   "name": "python",
   "nbconvert_exporter": "python",
   "pygments_lexer": "ipython3",
   "version": "3.10.8"
  }
 },
 "nbformat": 4,
 "nbformat_minor": 5
}
